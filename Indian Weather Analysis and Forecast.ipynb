{
    "cells": [
        {
            "cell_type": "code",
            "execution_count": 1,
            "metadata": {
                "scrolled": true
            },
            "outputs": [
                {
                    "data": {
                        "text/plain": "[Row(_c0='0', YEAR='1901', JAN='17.99', FEB='19.43', MAR='23.49', APR='26.41', MAY='28.28', JUN='28.6', JUL='27.49', AUG='26.98', SEP='26.26', OCT='25.08', NOV='21.73', DEC='18.95'),\n Row(_c0='1', YEAR='1902', JAN='19.0', FEB='20.39', MAR='24.1', APR='26.54', MAY='28.68', JUN='28.44', JUL='27.29', AUG='27.05', SEP='25.95', OCT='24.37', NOV='21.33', DEC='18.78'),\n Row(_c0='2', YEAR='1903', JAN='18.32', FEB='19.79', MAR='22.46', APR='26.03', MAY='27.93', JUN='28.41', JUL='28.04', AUG='26.63', SEP='26.34', OCT='24.57', NOV='20.96', DEC='18.29'),\n Row(_c0='3', YEAR='1904', JAN='17.77', FEB='19.39', MAR='22.95', APR='26.73', MAY='27.83', JUN='27.85', JUL='26.84', AUG='26.73', SEP='25.84', OCT='24.36', NOV='21.07', DEC='18.84'),\n Row(_c0='4', YEAR='1905', JAN='17.4', FEB='17.79', MAR='21.78', APR='24.84', MAY='28.32', JUN='28.69', JUL='27.67', AUG='27.47', SEP='26.29', OCT='26.16', NOV='22.07', DEC='18.71')]"
                    },
                    "execution_count": 1,
                    "metadata": {},
                    "output_type": "execute_result"
                }
            ],
            "source": "# The code was removed by Watson Studio for sharing."
        },
        {
            "cell_type": "code",
            "execution_count": null,
            "metadata": {},
            "outputs": [],
            "source": ""
        },
        {
            "cell_type": "code",
            "execution_count": null,
            "metadata": {},
            "outputs": [],
            "source": ""
        }
    ],
    "metadata": {
        "kernelspec": {
            "display_name": "Python 3.9 with Spark",
            "language": "python3",
            "name": "python39"
        },
        "language_info": {
            "codemirror_mode": {
                "name": "ipython",
                "version": 3
            },
            "file_extension": ".py",
            "mimetype": "text/x-python",
            "name": "python",
            "nbconvert_exporter": "python",
            "pygments_lexer": "ipython3",
            "version": "3.9.13"
        }
    },
    "nbformat": 4,
    "nbformat_minor": 1
}